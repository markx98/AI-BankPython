{
 "cells": [
  {
   "cell_type": "markdown",
   "metadata": {},
   "source": [
    "# Python BANK AI: \n",
    "\n",
    "### Clients Score\n",
    "\n",
    "Define the credit score of clients. Analyze all bank clients and, based on this analysis, create a model that can read client information and automatically determine their credit score: Poor, Standard, Good.\n"
   ]
  },
  {
   "cell_type": "code",
   "execution_count": null,
   "metadata": {},
   "outputs": [],
   "source": [
    "#!pip install pandas numpy scikit-learn\n",
    "#1 Import Database\n",
    "import pandas as pd\n",
    "\n",
    "tabel = pd.read_csv(\"clients.csv\")\n",
    "display(tabel)\n"
   ]
  },
  {
   "cell_type": "code",
   "execution_count": null,
   "metadata": {},
   "outputs": [],
   "source": [
    "# Check database \n",
    "display(tabel.info())\n",
    "\n",
    "#float - decimais\n",
    "#int - inteiros\n",
    "#obejct - texto\n",
    "\n"
   ]
  },
  {
   "cell_type": "code",
   "execution_count": null,
   "metadata": {},
   "outputs": [],
   "source": [
    "#2 Fix Database \n",
    "#Label Encoder\n",
    "\n",
    "from sklearn.preprocessing import LabelEncoder \n",
    "cod = LabelEncoder()\n",
    "\n",
    "tabel[\"profissao\"] = cod.fit_transform(tabel[\"profissao\"])\n",
    "tabel[\"mix_credito\"] = cod.fit_transform(tabel[\"mix_credito\"])\n",
    "tabel[\"comportamento_pagamento\"] = cod.fit_transform(tabel[\"comportamento_pagamento\"])\n",
    "\n",
    "display(tabel.info())\n"
   ]
  },
  {
   "cell_type": "code",
   "execution_count": 4,
   "metadata": {},
   "outputs": [],
   "source": [
    "x = tabel.drop(columns=[\"score_credito\", \"id_cliente\"]) \n",
    "y = tabel[\"score_credito\"]\n",
    "\n",
    "from sklearn.model_selection import train_test_split\n",
    "\n",
    "x_train, x_test, y_train, y_test = train_test_split(x, y, test_size=0.3)\n"
   ]
  },
  {
   "cell_type": "code",
   "execution_count": null,
   "metadata": {},
   "outputs": [],
   "source": [
    "#3 Create AI models\n",
    "#Kaglle (test dados)\n",
    "#RandomForest\n",
    "#Neirest Neighbors - KNN\n",
    "#Import  AI\n",
    "from sklearn.ensemble import RandomForestClassifier\n",
    "from sklearn.neighbors import KNeighborsClassifier\n",
    "\n",
    "#Create AI\n",
    "model_rf = RandomForestClassifier()\n",
    "model_knn = KNeighborsClassifier()\n",
    "\n",
    "#Train AI\n",
    "model_rf.fit(x_train, y_train)\n",
    "model_knn.fit(x_train, y_train)"
   ]
  },
  {
   "cell_type": "code",
   "execution_count": null,
   "metadata": {},
   "outputs": [],
   "source": [
    "#4 Choose best model\n",
    "pv_rf = model_rf.predict(x_test)\n",
    "pv_knn = model_knn.predict(x_test)\n",
    "\n",
    "from sklearn.metrics import accuracy_score\n",
    "\n",
    "display(accuracy_score(y_test, pv_rf))\n",
    "display(accuracy_score(y_test, pv_knn))\n",
    "\n"
   ]
  },
  {
   "cell_type": "code",
   "execution_count": null,
   "metadata": {},
   "outputs": [],
   "source": [
    "#5 Data Predict\n",
    "#RandomForest - BestModel\n",
    "# Import new clients\n",
    "tabel_newClients = pd.read_csv(\"new_clients.csv\")\n",
    "display(tabel_newClients)\n",
    "\n",
    "# Fix object columns\n",
    "tabel_newClients[\"profissao\"] = cod.fit_transform(tabel_newClients[\"profissao\"])\n",
    "tabel_newClients[\"mix_credito\"] = cod.fit_transform(tabel_newClients[\"mix_credito\"])\n",
    "tabel_newClients[\"comportamento_pagamento\"] = cod.fit_transform(tabel_newClients[\"comportamento_pagamento\"])\n",
    "\n",
    "# Predict \n",
    "predict = model_rf.predict(tabel_newClients)\n",
    "\n",
    "display(tabel_newClients)\n",
    "display(predict)\n",
    "\n"
   ]
  }
 ],
 "metadata": {
  "kernelspec": {
   "display_name": "Python 3",
   "language": "python",
   "name": "python3"
  },
  "language_info": {
   "codemirror_mode": {
    "name": "ipython",
    "version": 3
   },
   "file_extension": ".py",
   "mimetype": "text/x-python",
   "name": "python",
   "nbconvert_exporter": "python",
   "pygments_lexer": "ipython3",
   "version": "3.12.4"
  },
  "orig_nbformat": 4
 },
 "nbformat": 4,
 "nbformat_minor": 2
}
